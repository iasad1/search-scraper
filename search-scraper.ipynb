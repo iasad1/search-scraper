{
 "cells": [
  {
   "cell_type": "code",
   "execution_count": 52,
   "metadata": {},
   "outputs": [],
   "source": [
    "from selenium import webdriver\n",
    "from selenium.common.exceptions import NoSuchElementException\n",
    "from selenium.common.exceptions import TimeoutException\n",
    "from selenium.webdriver.support.ui import WebDriverWait\n",
    "from selenium.webdriver.support import expected_conditions as EC\n",
    "from selenium.webdriver.common.by import By\n",
    "import pandas as pd\n",
    "import time"
   ]
  },
  {
   "cell_type": "code",
   "execution_count": 53,
   "metadata": {},
   "outputs": [],
   "source": [
    "driver = webdriver.Chrome(r'C:\\Users\\Asad\\seowork\\chromedriver.exe')"
   ]
  },
  {
   "cell_type": "code",
   "execution_count": 54,
   "metadata": {},
   "outputs": [],
   "source": [
    "# Initialising empty lists    \n",
    "size = [] \n",
    "desc = []\n",
    "sale = []\n",
    "location = []\n",
    "locations = ['london']\n",
    "p = 1\n",
    "for x in locations:\n",
    "      while True:\n",
    "            url = 'https://www.novaloca.com/property-search-results/default.aspx?page={}&propertytypes=&saletypes=1&status=1&sizefrom=1&sizeto=500000%2b&sizetype=2&location=london&distance=30&addresskeyword=&excludeServicedOffices=False'.format(p)\n",
    "            driver.get(url)\n",
    "            time.sleep(3)\n",
    "            location.append(x)\n",
    "            p += 1\n",
    "            try:\n",
    "                # Test to see if we're on the last page\n",
    "                test = driver.find_element_by_class_name('extra-details')\n",
    "\n",
    "                # Execution Code For Every Page\n",
    "                ids = driver.find_elements_by_xpath(\"//*[contains(@id,'property-')]\") # Using Regex to extract all ids\n",
    "                property_ids = []\n",
    "                for i in ids:\n",
    "                    property_ids.append(i.get_attribute('id'))\n",
    "                for x in property_ids:\n",
    "                #     To extract sizes from each property-card\n",
    "                    size_test = driver.find_elements_by_xpath('//*[@id=\"'+x+'\"]/div/div[1]/div[3]/div/div[1]/div/span/strong')[0]    \n",
    "                    size.append(size_test.text)\n",
    "                    desc_test = driver.find_elements_by_xpath('//*[@id=\"'+x+'\"]/div/div[2]/h4')[0]\n",
    "                    desc.append(desc_test.text)\n",
    "                    sale_test = driver.find_elements_by_xpath('//*[@id=\"'+x+'\"]/div/div[2]/p/span[2]')[0]\n",
    "                    sale.append(sale_test.text)\n",
    "\n",
    "            except:\n",
    "                break\n",
    "   \n",
    "\n",
    "\n",
    "\n",
    "\n"
   ]
  },
  {
   "cell_type": "code",
   "execution_count": null,
   "metadata": {},
   "outputs": [],
   "source": [
    "df_data = pd.DataFrame({'prop_size':size,'prop_desc':desc,'prop_price':sale})\n"
   ]
  },
  {
   "cell_type": "code",
   "execution_count": null,
   "metadata": {},
   "outputs": [],
   "source": [
    "df_data"
   ]
  },
  {
   "cell_type": "code",
   "execution_count": null,
   "metadata": {},
   "outputs": [],
   "source": []
  }
 ],
 "metadata": {
  "kernelspec": {
   "display_name": "Python 3",
   "language": "python",
   "name": "python3"
  },
  "language_info": {
   "codemirror_mode": {
    "name": "ipython",
    "version": 3
   },
   "file_extension": ".py",
   "mimetype": "text/x-python",
   "name": "python",
   "nbconvert_exporter": "python",
   "pygments_lexer": "ipython3",
   "version": "3.7.4"
  }
 },
 "nbformat": 4,
 "nbformat_minor": 2
}
