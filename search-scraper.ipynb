{
 "cells": [
  {
   "cell_type": "code",
   "execution_count": 11,
   "metadata": {},
   "outputs": [],
   "source": [
    "from selenium import webdriver\n",
    "from selenium.webdriver.chrome.options import Options\n",
    "from selenium.common.exceptions import NoSuchElementException\n",
    "from selenium.common.exceptions import TimeoutException\n",
    "from selenium.webdriver.support.ui import WebDriverWait\n",
    "from selenium.webdriver.support import expected_conditions as EC\n",
    "from selenium.webdriver.common.by import By\n",
    "import pandas as pd\n",
    "import time"
   ]
  },
  {
   "cell_type": "markdown",
   "metadata": {},
   "source": [
    "Setting up the webdriver"
   ]
  },
  {
   "cell_type": "code",
   "execution_count": 12,
   "metadata": {},
   "outputs": [],
   "source": [
    "chrome_options = Options()\n",
    "chrome_options.add_argument(\"--headless\")\n",
    "driver = webdriver.Chrome(\"/Users/asadimam/ChromeDriver/chromedriver-2\",options=chrome_options)\n",
    "\n"
   ]
  },
  {
   "cell_type": "code",
   "execution_count": 7,
   "metadata": {},
   "outputs": [],
   "source": [
    "# Initialising empty lists    \n",
    "size = [] \n",
    "desc = []\n",
    "sale = []\n",
    "location = []\n",
    "locations = ['london','reading','maidenhead']\n",
    "for x in locations:\n",
    "        p= 1\n",
    "        while True:\n",
    "            url = 'https://www.novaloca.com/property-search-results/default.aspx?page={}&propertytypes=&saletypes=1&status=1&sizefrom=1&sizeto=500000%2b&sizetype=2&location={}&distance=30&addresskeyword=&excludeServicedOffices=False'.format(p,x)\n",
    "            driver.get(url)\n",
    "            time.sleep(3)\n",
    "            location.append(x)\n",
    "            p += 1\n",
    "            try:\n",
    "                # Test to see if we're on the last page\n",
    "                test = driver.find_element_by_class_name('extra-details')\n",
    "\n",
    "#                 print(f'this is {p} of {x}')\n",
    "\n",
    "                # Execution Code For Every Page\n",
    "                ids = driver.find_elements_by_xpath(\"//*[contains(@id,'property-')]\")\n",
    "                property_ids = []\n",
    "                for i in ids:\n",
    "                    property_ids.append(i.get_attribute('id'))\n",
    "                    for j in property_ids:\n",
    "                        #     To extract sizes from each property-card\n",
    "                        size_test = driver.find_elements_by_xpath('//*[@id=\"'+j+'\"]/div/div[1]/div[3]/div/div[1]/div/span/strong')[0]    \n",
    "                        size.append(size_test.text)\n",
    "                        desc_test = driver.find_elements_by_xpath('//*[@id=\"'+j+'\"]/div/div[2]/h4')[0]\n",
    "                        desc.append(desc_test.text)\n",
    "                        sale_test = driver.find_elements_by_xpath('//*[@id=\"'+j+'\"]/div/div[2]/p/span[2]')[0]\n",
    "                        sale.append(sale_test.text)\n",
    "\n",
    "            except:\n",
    "                break\n",
    "\n",
    "\n",
    "\n"
   ]
  },
  {
   "cell_type": "code",
   "execution_count": null,
   "metadata": {},
   "outputs": [],
   "source": []
  }
 ],
 "metadata": {
  "kernelspec": {
   "display_name": "Python 3",
   "language": "python",
   "name": "python3"
  },
  "language_info": {
   "codemirror_mode": {
    "name": "ipython",
    "version": 3
   },
   "file_extension": ".py",
   "mimetype": "text/x-python",
   "name": "python",
   "nbconvert_exporter": "python",
   "pygments_lexer": "ipython3",
   "version": "3.7.4"
  }
 },
 "nbformat": 4,
 "nbformat_minor": 2
}
